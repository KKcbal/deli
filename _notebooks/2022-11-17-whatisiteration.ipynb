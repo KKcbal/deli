{
 "cells": [
  {
   "cell_type": "markdown",
   "metadata": {},
   "source": [
    "# What is Iteration (3.8)\n",
    "> Getting to know the basics of iteration.\n",
    "- title: 3.8 Iteration: Overview\n",
    "- toc: false\n",
    "- hide: false\n",
    "- search-exclude: false\n",
    "- permalink: /iterationbasics/\n",
    "- categories: [3.8]"
   ]
  },
  {
   "cell_type": "markdown",
   "metadata": {},
   "source": [
    "## What is Iteration?\n",
    "\n",
    "Iteration is basically repetition. In code, it is always helpful to have a system in place to repeat a function a certain amount of times, because copy-pasting functions over and over is both unnecessary complicated and unprofessional.\n",
    "\n",
    "Pretty much every single code language uses loops of some kind, but in this lesson, we use Python because it has a very learning-friendly syntax.\n",
    "\n",
    "### Conditional Iteration\n",
    "\n",
    "Most of the time, a function iterates a certain number of times based on the purpose it's supposed to serve. For example, if your function is supposed to multiply a number by 8 four times, you *could* do something like this, but <mark>you definitely shouldn't</mark>."
   ]
  },
  {
   "cell_type": "code",
   "execution_count": 6,
   "metadata": {},
   "outputs": [
    {
     "name": "stdout",
     "output_type": "stream",
     "text": [
      "Multiplying 2 by 8 four times:\n",
      "16\n",
      "128\n",
      "1024\n",
      "8192\n"
     ]
    }
   ],
   "source": [
    "# DON'T DO THIS\n",
    "number = 2\n",
    "def multiplyby8(num):\n",
    "    global newnum\n",
    "    newnum = num * 8\n",
    "    print(newnum)\n",
    "\n",
    "print('Multiplying', number, 'by 8 four times:')\n",
    "multiplyby8(number)\n",
    "multiplyby8(newnum)\n",
    "multiplyby8(newnum)\n",
    "multiplyby8(newnum)"
   ]
  },
  {
   "cell_type": "markdown",
   "metadata": {},
   "source": [
    "Instead, automate the process using loops. In this case, we used a \"while\" loop. There will be more about loops later in the second part of this lesson. The function loops until the condition of the function having been repeated 4 times is satisfied."
   ]
  },
  {
   "cell_type": "code",
   "execution_count": 7,
   "metadata": {},
   "outputs": [
    {
     "name": "stdout",
     "output_type": "stream",
     "text": [
      "Multiplying 2 by 8 four times:\n",
      "16\n",
      "128\n",
      "1024\n",
      "8192\n"
     ]
    }
   ],
   "source": [
    "# INSTEAD, DO THIS\n",
    "number = 2\n",
    "def multiplyby8_4times(num):\n",
    "    print('Multiplying', num, 'by 8 four times:')\n",
    "    i = 0 #i starts at 0\n",
    "    while i < 4: #the function will repeat until i >= 4\n",
    "        num = num * 8\n",
    "        print(num)\n",
    "        i += 1 #i increments each time\n",
    "\n",
    "multiplyby8_4times(number)"
   ]
  },
  {
   "cell_type": "markdown",
   "metadata": {},
   "source": [
    "(It would actually be more efficient to just multiply the number by 4096 or 8<sup>4</sup>, but this is just for demonstration.)"
   ]
  },
  {
   "cell_type": "markdown",
   "metadata": {},
   "source": [
    "### Iteration Based on Lists and Dictionaries\n",
    "\n",
    "Most code languages have some form of \"for\" loop. This type of loop checks the information stored within a list and prints it accordingly."
   ]
  },
  {
   "cell_type": "code",
   "execution_count": 8,
   "metadata": {},
   "outputs": [
    {
     "name": "stdout",
     "output_type": "stream",
     "text": [
      "1 times 2 is equal to 2.\n",
      "2 times 2 is equal to 4.\n",
      "3 times 2 is equal to 6.\n",
      "4 times 2 is equal to 8.\n"
     ]
    }
   ],
   "source": [
    "numlist = [1, 2, 3, 4] #more numbers = increase the amount of times it iterates\n",
    "#since numlist is a list of single numbers, it understands 'number' as each number\n",
    "for number in numlist:\n",
    "    prod = number * 2\n",
    "    print(str(number), \"times 2 is equal to\", str(prod) + \".\")"
   ]
  },
  {
   "cell_type": "markdown",
   "metadata": {},
   "source": [
    "Lists with multiple items at each index can be formatted like this. "
   ]
  },
  {
   "cell_type": "code",
   "execution_count": 10,
   "metadata": {},
   "outputs": [
    {
     "name": "stdout",
     "output_type": "stream",
     "text": [
      "Your pets:\n",
      "Dogs:  1\n",
      "Cats:  2\n",
      "Fish:  0\n"
     ]
    }
   ],
   "source": [
    "petlist = [(\"Dogs\", 1), (\"Cats\", 2), (\"Fish\", 0)]\n",
    "\n",
    "print(\"Your pets:\")\n",
    "for pet, number in petlist: #in order, the first and then the second\n",
    "    print(pet + \": \", number)"
   ]
  },
  {
   "cell_type": "markdown",
   "metadata": {},
   "source": [
    "In cases like this, however, it is usually preferable to use a dictionary. This makes the information clearer.\n",
    "\n",
    "Using multiple loops, we can even dig deeper into collections of information during a \"for\" loop like in the example below."
   ]
  },
  {
   "cell_type": "code",
   "execution_count": null,
   "metadata": {},
   "outputs": [],
   "source": [
    "drewpets = [(\"Drew\", ({\"dogs\": 1, \"cats\": 1, \"fish\": 0}))]\n",
    "ajpets = [(\"AJ\", {\"dogs\": 1, \"cats\": 0, \"fish\": 329})]\n",
    "johnnypets = [(\"Johnny\", {\"dogs\": 2, \"cats\": 0, \"fish\": 0})]\n",
    "allpets = [drewpets, ajpets, johnnypets] #a collection of all pet lists\n",
    "\n",
    "for person in allpets:\n",
    "    for name, dict in person: #unpacking the name and dictionary\n",
    "        print(name + \"'s pets:\")\n",
    "        for pet, num in dict.items(): #use .items() to go through keys and values\n",
    "            print(pet.capitalize() + \":\", num) #capitalizes first letter\n",
    "    print(\"\")"
   ]
  },
  {
   "cell_type": "markdown",
   "metadata": {},
   "source": [
    "Try running this on your own and see if you can understand it.\n",
    "\n",
    "Hack opportunity: make your own function that uses multiple \"for\" loops within each other to unpack and display elements in a list."
   ]
  }
 ],
 "metadata": {
  "kernelspec": {
   "display_name": "Python 3.8.13 64-bit",
   "language": "python",
   "name": "python3"
  },
  "language_info": {
   "codemirror_mode": {
    "name": "ipython",
    "version": 3
   },
   "file_extension": ".py",
   "mimetype": "text/x-python",
   "name": "python",
   "nbconvert_exporter": "python",
   "pygments_lexer": "ipython3",
   "version": "3.8.13"
  },
  "orig_nbformat": 4,
  "vscode": {
   "interpreter": {
    "hash": "0adcc2737ebf6a4a119f135174df96668767fca1ef1112612db5ecadf2b6d608"
   }
  }
 },
 "nbformat": 4,
 "nbformat_minor": 2
}
