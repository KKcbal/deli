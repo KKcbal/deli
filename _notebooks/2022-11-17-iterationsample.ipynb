{
 "cells": [
  {
   "cell_type": "markdown",
   "metadata": {},
   "source": [
    "# Recognizing and Using Different Types of Loops\n",
    "> A sample subject for our lesson on Iteration.\n",
    "- title: Different Types of Loops\n",
    "- toc: false\n",
    "- hide: true\n",
    "- search-exclude: true\n",
    "- permalink: /iterationsample/\n",
    "- categories: [python]"
   ]
  },
  {
   "cell_type": "markdown",
   "metadata": {},
   "source": [
    "## For Loops\n",
    "\n",
    "These loops are good for applying a certain alogrithm or function to an entire list of similar things. However, how many times the function iterates is not as controllable."
   ]
  },
  {
   "cell_type": "code",
   "execution_count": 1,
   "metadata": {},
   "outputs": [
    {
     "name": "stdout",
     "output_type": "stream",
     "text": [
      "<class 'str'>\n",
      "<class 'int'>\n",
      "<class 'float'>\n",
      "<class 'bool'>\n"
     ]
    }
   ],
   "source": [
    "list = [\"cheese\", 328, 3.1415926, True]\n",
    "# This for loop show what the type of everything in the list is\n",
    "for thing in list:\n",
    "    print(type(thing))"
   ]
  },
  {
   "cell_type": "markdown",
   "metadata": {},
   "source": [
    "## Recursive Loops\n",
    "\n",
    "Recursive loops can be created in multiple different ways, and involve incrementing a variable until it reaches a certain break point. This can be a good type of loop to use when you want to limit the starting point, for example."
   ]
  },
  {
   "cell_type": "code",
   "execution_count": 5,
   "metadata": {},
   "outputs": [
    {
     "name": "stdout",
     "output_type": "stream",
     "text": [
      "Benjamin\n",
      "Franklin\n",
      "Lightbulbs\n",
      "Kites\n",
      "Scams\n",
      "---\n",
      "Things associated with Benjamin Franklin:\n",
      "Lightbulbs\n",
      "Kites\n",
      "Scams\n"
     ]
    }
   ],
   "source": [
    "list = [\"Benjamin\", \"Franklin\", \"Lightbulbs\", \"Kites\", \"Scams\"]\n",
    "def recursive_loop(i):\n",
    "    if i < len(list):\n",
    "        print(list[i])\n",
    "        recursive_loop(i+1)\n",
    "    else:\n",
    "        return\n",
    "# This will print the whole list\n",
    "recursive_loop(0)\n",
    "print(\"---\")\n",
    "# This will print only the last three things\n",
    "print(\"Things associated with Benjamin Franklin:\")\n",
    "recursive_loop(2)"
   ]
  },
  {
   "cell_type": "markdown",
   "metadata": {},
   "source": [
    "## While Loops\n",
    "\n",
    "While loops are very similar to recursive loops, but with a different syntax."
   ]
  },
  {
   "cell_type": "code",
   "execution_count": 9,
   "metadata": {},
   "outputs": [
    {
     "name": "stdout",
     "output_type": "stream",
     "text": [
      "Sample\n",
      "Text\n",
      "For\n",
      "Learning\n",
      "---\n",
      "For\n",
      "Learning\n"
     ]
    }
   ],
   "source": [
    "list = [\"Sample\", \"Text\", \"For\", \"Learning\"]\n",
    "def while_loop():\n",
    "    i = 0\n",
    "    while i < len(list):\n",
    "        print(list[i])\n",
    "        i += 1\n",
    "# This will print the whole list\n",
    "while_loop()\n",
    "# If we wanted to customize the parameters, we could do something like this\n",
    "print(\"---\")\n",
    "def while_loop2(i):\n",
    "    while i < len(list):\n",
    "        print(list[i])\n",
    "        i += 1\n",
    "# This will print only the last two entries in the list\n",
    "while_loop2(2)"
   ]
  },
  {
   "cell_type": "markdown",
   "metadata": {},
   "source": [
    "## Hack for this Lesson\n",
    "\n",
    "Create a recursive loop or a while loop to perform a certain *specific* task. This can be applying a function to a list (we like this one), altering or analyzing a certain input or parameter, or anything else as long as it has a specific function. Then, create two other *types* of loops (whichever two you didn't already do) that serve the same function.\n",
    "\n",
    "At the end, reflect on which type of loop was the easiest/most efficient to use and consider why."
   ]
  }
 ],
 "metadata": {
  "kernelspec": {
   "display_name": "Python 3.8.13 64-bit",
   "language": "python",
   "name": "python3"
  },
  "language_info": {
   "codemirror_mode": {
    "name": "ipython",
    "version": 3
   },
   "file_extension": ".py",
   "mimetype": "text/x-python",
   "name": "python",
   "nbconvert_exporter": "python",
   "pygments_lexer": "ipython3",
   "version": "3.8.13"
  },
  "orig_nbformat": 4,
  "vscode": {
   "interpreter": {
    "hash": "0adcc2737ebf6a4a119f135174df96668767fca1ef1112612db5ecadf2b6d608"
   }
  }
 },
 "nbformat": 4,
 "nbformat_minor": 2
}
