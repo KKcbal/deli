{
 "cells": [
  {
   "cell_type": "markdown",
   "metadata": {},
   "source": [
    "# Some lesson\n",
    "> I'm writing some lesson stuff -AJ"
   ]
  },
  {
   "cell_type": "markdown",
   "metadata": {},
   "source": [
    "## Iteration\n",
    "\n",
    "Running a statement through code until it's true. The first video talked about running a statement through code until it's true"
   ]
  },
  {
   "cell_type": "code",
   "execution_count": 1,
   "metadata": {},
   "outputs": [
    {
     "name": "stdout",
     "output_type": "stream",
     "text": [
      "1\n",
      "2\n",
      "3\n",
      "4\n"
     ]
    }
   ],
   "source": [
    "# I think this is what the video was talking about\n",
    "I = 1\n",
    "while I < 5:\n",
    "    print(I)\n",
    "    I += 1"
   ]
  },
  {
   "cell_type": "markdown",
   "metadata": {},
   "source": [
    "It was talking about a statement going through a condition until it's true"
   ]
  },
  {
   "cell_type": "markdown",
   "metadata": {},
   "source": [
    "The videos use a fake coding language that doesn't really have a 1:1 translation to python or javascript. The other two videos were talking about REPEAT functions and REPEAT UNTIL functions. The repeat function will repeat a function a set number of times and the repeat until is basically a while function"
   ]
  },
  {
   "cell_type": "code",
   "execution_count": 2,
   "metadata": {},
   "outputs": [
    {
     "name": "stdout",
     "output_type": "stream",
     "text": [
      "i\n",
      "i\n",
      "i\n",
      "i\n"
     ]
    }
   ],
   "source": [
    "list = [1, 2, 3, 4]\n",
    "for n in list:\n",
    "    print(\"i\")"
   ]
  },
  {
   "cell_type": "markdown",
   "metadata": {},
   "source": [
    "You can emulate a repeat function using a for loop, like I did above. It'll loop for each item in the list, so you can plug in a list that has the same amount of items as you want loops. "
   ]
  },
  {
   "cell_type": "markdown",
   "metadata": {},
   "source": [
    "## Lists\n",
    "\n",
    "The first video talks about for loops to loop through a list. They also list some code you can apply to lists"
   ]
  },
  {
   "cell_type": "code",
   "execution_count": 7,
   "metadata": {},
   "outputs": [
    {
     "name": "stdout",
     "output_type": "stream",
     "text": [
      "[1, 2, 3]\n",
      "3\n",
      "[1, 2, 3, 4]\n",
      "[1, 3, 4]\n",
      "[1, 2, 3, 4]\n",
      "2\n",
      "4\n"
     ]
    }
   ],
   "source": [
    "list = [1, 2, 3]\n",
    "print(list)\n",
    "print(list[2])\n",
    "list.append(4)\n",
    "print(list)\n",
    "list.pop(1)\n",
    "print(list)\n",
    "list.insert(1, 2)\n",
    "print(list)\n",
    "x = list[1]\n",
    "print(x)\n",
    "print(len(list))"
   ]
  },
  {
   "cell_type": "markdown",
   "metadata": {},
   "source": [
    "This is basically everything they listed that you can do with lists.  \n",
    "The second video also talks about for loops. They insert if statments to count things in a list, though"
   ]
  },
  {
   "cell_type": "code",
   "execution_count": 8,
   "metadata": {},
   "outputs": [
    {
     "name": "stdout",
     "output_type": "stream",
     "text": [
      "['cat', 'dog', 'dog', 'cat', 'cat', 'cat']\n",
      "2\n",
      "4\n"
     ]
    }
   ],
   "source": [
    "list = [\"cat\", \"dog\", \"dog\", \"cat\", \"cat\", \"cat\"]\n",
    "d = 0\n",
    "c = 0\n",
    "for n in list:\n",
    "    if n == \"dog\":\n",
    "        d += 1\n",
    "    if n == \"cat\":\n",
    "        c += 1\n",
    "print(list)\n",
    "print(d)\n",
    "print(c)"
   ]
  },
  {
   "cell_type": "markdown",
   "metadata": {},
   "source": [
    "The third video was about recursive loops. It was using a function that looped to remove words that were 3 letters long."
   ]
  },
  {
   "cell_type": "code",
   "execution_count": 13,
   "metadata": {},
   "outputs": [
    {
     "name": "stdout",
     "output_type": "stream",
     "text": [
      "['men', 'boom', 'gamer', 'big', 'no']\n",
      "['boom', 'gamer', 'no']\n"
     ]
    }
   ],
   "source": [
    "list = [\"men\", \"boom\", \"gamer\", \"big\", \"no\"]\n",
    "def recursive_loop(n):\n",
    "    if n < len(list):\n",
    "        if len(list[n]) == 3:\n",
    "            list.pop(n)\n",
    "        recursive_loop(n + 1)\n",
    "print(list)\n",
    "recursive_loop(0)\n",
    "print(list)"
   ]
  },
  {
   "cell_type": "markdown",
   "metadata": {},
   "source": [
    "That's basically what they did in the third video. code written by Drew."
   ]
  }
 ],
 "metadata": {
  "kernelspec": {
   "display_name": "Python 3.9.12 ('base')",
   "language": "python",
   "name": "python3"
  },
  "language_info": {
   "codemirror_mode": {
    "name": "ipython",
    "version": 3
   },
   "file_extension": ".py",
   "mimetype": "text/x-python",
   "name": "python",
   "nbconvert_exporter": "python",
   "pygments_lexer": "ipython3",
   "version": "3.9.12"
  },
  "orig_nbformat": 4,
  "vscode": {
   "interpreter": {
    "hash": "6ccb6558ef2ee8ddcd1889f8d547b1546f932296c7f2f80f67fdee00b5700eff"
   }
  }
 },
 "nbformat": 4,
 "nbformat_minor": 2
}
