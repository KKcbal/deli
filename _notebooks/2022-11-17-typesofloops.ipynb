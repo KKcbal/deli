{
 "cells": [
  {
   "cell_type": "markdown",
   "metadata": {},
   "source": [
    "# Recognizing and Using Different Types of Loops (3.8 Iteration)\n",
    "> A lesson on different types of loops you can use.\n",
    "- title: 3.8 Iteration - Different Types of Loops\n",
    "- permalink: /loops/\n",
    "- categories: [3.8]"
   ]
  },
  {
   "cell_type": "markdown",
   "metadata": {},
   "source": [
    "## For Loops\n",
    "\n",
    "These loops are good for applying a certain alogrithm or function to an entire list of similar things. However, how many times the function iterates is not as controllable.\n",
    "\n",
    "We already talked a bit about them in the previous iteration lesson, so here's a review."
   ]
  },
  {
   "cell_type": "code",
   "execution_count": 1,
   "metadata": {},
   "outputs": [
    {
     "name": "stdout",
     "output_type": "stream",
     "text": [
      "<class 'str'>\n",
      "<class 'int'>\n",
      "<class 'float'>\n",
      "<class 'bool'>\n"
     ]
    }
   ],
   "source": [
    "list = [\"cheese\", 328, 3.1415926, True]\n",
    "# This for loop show what the type of everything in the list is\n",
    "for thing in list:\n",
    "    print(type(thing))"
   ]
  },
  {
   "cell_type": "markdown",
   "metadata": {},
   "source": [
    "For loops are mostly useful for applying a function to everything in a list one-by-one. It's technically possible to make for loops act the same as other loops, but it often takes a lot more work-arounds."
   ]
  },
  {
   "cell_type": "code",
   "execution_count": 2,
   "metadata": {},
   "outputs": [
    {
     "name": "stdout",
     "output_type": "stream",
     "text": [
      "[1.5, 3.0, 46.5, 123.5, 16669.0, 16.0, 105.5]\n",
      "[1.5, 6, 46.5, 247, 16669.0, 32, 105.5]\n"
     ]
    }
   ],
   "source": [
    "#as we see here, for loops are great at applying a rule to a list of things\n",
    "numlist = [3, 6, 93, 247, 33338, 32, 211]\n",
    "newlist = []\n",
    "for number in numlist:\n",
    "    #this loop generates a new list with the numlist values divided by 2\n",
    "    newlist.append(number / 2)\n",
    "print(newlist)\n",
    "\n",
    "#it is more difficult, for example, to detect the index of the list objects\n",
    "newerlist = []\n",
    "index = 0 #with this loop, this new variable is necessary\n",
    "for number in numlist: #this only applies the division to even indexes\n",
    "    if index % 2 == 0:\n",
    "        newerlist.append(number / 2)\n",
    "    else:\n",
    "        newerlist.append(number)\n",
    "    index += 1\n",
    "print(newerlist)"
   ]
  },
  {
   "cell_type": "markdown",
   "metadata": {},
   "source": [
    "## Recursive Loops\n",
    "\n",
    "Recursive loops can be created in multiple different ways, and involve incrementing a variable until it reaches a certain break point. This can be a good type of loop to use when you want to limit the starting point, for example."
   ]
  },
  {
   "cell_type": "code",
   "execution_count": 3,
   "metadata": {},
   "outputs": [
    {
     "name": "stdout",
     "output_type": "stream",
     "text": [
      "Benjamin\n",
      "Franklin\n",
      "Lightbulbs\n",
      "Kites\n",
      "Scams\n",
      "---\n",
      "Things associated with Benjamin Franklin:\n",
      "Lightbulbs\n",
      "Kites\n",
      "Scams\n"
     ]
    }
   ],
   "source": [
    "list = [\"Benjamin\", \"Franklin\", \"Lightbulbs\", \"Kites\", \"Scams\"]\n",
    "def recursive_loop(i):\n",
    "    if i < len(list):\n",
    "        print(list[i])\n",
    "        recursive_loop(i+1)\n",
    "    else:\n",
    "        return\n",
    "# This will print the whole list\n",
    "recursive_loop(0)\n",
    "print(\"---\")\n",
    "# This will print only the last three things\n",
    "print(\"Things associated with Benjamin Franklin:\")\n",
    "recursive_loop(2)"
   ]
  },
  {
   "cell_type": "markdown",
   "metadata": {},
   "source": [
    "Unlike the for loop from before, because `i` always represents the current index of the list in question, we don't need to include the extra `index` variable."
   ]
  },
  {
   "cell_type": "code",
   "execution_count": 4,
   "metadata": {},
   "outputs": [
    {
     "name": "stdout",
     "output_type": "stream",
     "text": [
      "[1.5, 6, 46.5, 247, 16669.0, 32, 105.5]\n"
     ]
    }
   ],
   "source": [
    "#here's a recursive loop version of that \"every even index\" function from before\n",
    "numlist = [3, 6, 93, 247, 33338, 32, 211]\n",
    "newerlist = []\n",
    "def recursive_num(i):\n",
    "    if i < len(numlist):\n",
    "        if i % 2 == 0:\n",
    "            newerlist.append(numlist[i] / 2)\n",
    "        else:\n",
    "            newerlist.append(numlist[i])\n",
    "        recursive_num(i + 1)\n",
    "    else:\n",
    "        print(newerlist)\n",
    "#even though we were able to omit that index variable,\n",
    "#some would argue this is more complicated\n",
    "recursive_num(0)"
   ]
  },
  {
   "cell_type": "markdown",
   "metadata": {},
   "source": [
    "## While Loops\n",
    "\n",
    "While loops are very similar to recursive loops, but with a different syntax.\n",
    "\n",
    "While loops don't require a function that is then called again within the original function until a condition is met. While functions perform all the way through, and if the condition is still satisfied afterward, the while loop will repeat again."
   ]
  },
  {
   "cell_type": "code",
   "execution_count": 5,
   "metadata": {},
   "outputs": [
    {
     "name": "stdout",
     "output_type": "stream",
     "text": [
      "Sample\n",
      "Text\n",
      "For\n",
      "Learning\n"
     ]
    }
   ],
   "source": [
    "list = [\"Sample\", \"Text\", \"For\", \"Learning\"]\n",
    "def while_loop():\n",
    "    i = 0\n",
    "    while i < len(list):\n",
    "        print(list[i])\n",
    "        i += 1\n",
    "# This will print the whole list\n",
    "while_loop()"
   ]
  },
  {
   "cell_type": "markdown",
   "metadata": {},
   "source": [
    "And here's a while loop version of the function from before."
   ]
  },
  {
   "cell_type": "code",
   "execution_count": 6,
   "metadata": {},
   "outputs": [
    {
     "name": "stdout",
     "output_type": "stream",
     "text": [
      "[1.5, 6, 46.5, 247, 16669.0, 32, 105.5]\n"
     ]
    }
   ],
   "source": [
    "#here's a while loop version of that \"every even index\" function from before\n",
    "numlist = [3, 6, 93, 247, 33338, 32, 211]\n",
    "newerlist = []\n",
    "def while_num():\n",
    "    i = 0\n",
    "    while i < len(numlist):\n",
    "        if i % 2 == 0:\n",
    "            newerlist.append(numlist[i] / 2)\n",
    "        else:\n",
    "            newerlist.append(numlist[i])\n",
    "        i += 1\n",
    "    print(newerlist)\n",
    "#this version has a bit less clutter than recursive with one less if/else\n",
    "while_num()"
   ]
  },
  {
   "cell_type": "markdown",
   "metadata": {},
   "source": [
    "## Challenge\n",
    "\n",
    "This isn't the homework, but doing this and showing it on your review ticket will definitely boost your grade! You'll have time to work on it during the lesson.\n",
    "\n",
    "> Create a loop that <mark>converts 8-bit binary values</mark> from a list into <mark>decimal numbers</mark>. Then, after the value is determined, <mark>remove all the values greater than 100</mark> from the list using a list-related function you've been taught before. <mark>Print the new list</mark> when done.\n",
    "\n",
    "> Once you've done this with one of the types of loops discussed in this lesson, create a function that does the same thing with a *different* type of loop."
   ]
  },
  {
   "cell_type": "code",
   "execution_count": null,
   "metadata": {},
   "outputs": [],
   "source": [
    "binarylist = [\n",
    "    \"01001001\", \"10101010\", \"10010110\", \"00110111\", \"11101100\", \"11010001\", \"10000001\"\n",
    "]\n",
    "\n",
    "def binary_convert(binary):\n",
    "    pass\n",
    "    #use this function to convert every binary value in binarylist to decimal\n",
    "    #afterward, get rid of the values that are greater than 100 in decimal\n",
    "\n",
    "#when done, print the results"
   ]
  },
  {
   "cell_type": "markdown",
   "metadata": {},
   "source": [
    "At the end, reflect on which type of loop was the easiest/most efficient to use and consider why.\n",
    "\n",
    "<button id=\"pophint\" style=\"padding:5px;font-family:'Comic Sans MS'\">HINT</button>\n",
    "<p id=\"hinttext\" style=\"font-family:'Comic Sans MS'\">\n",
    "  <!--TEXT GOES HERE-->\n",
    "</p>\n",
    "\n",
    "<script>\n",
    "    var hint_txt = \"Each bit of binary has its own decimal value when equal to 1. For example, the rightmost bit is always equal to 1 in decimal, and the leftmost bit of 8-bit binary is equal to 128 in decimal. Based on this knowledge, you can reverse-engineer binary bit-by-bit using iteration.\";\n",
    "    var hint_btn = document.getElementById(\"pophint\");\n",
    "    hint_btn.onclick = function() {\n",
    "        document.getElementById(\"hinttext\").innerHTML = hint_txt;\n",
    "        hint_btn.style = \"display:none\";\n",
    "    };\n",
    "</script>"
   ]
  }
 ],
 "metadata": {
  "kernelspec": {
   "display_name": "Python 3.8.13 64-bit",
   "language": "python",
   "name": "python3"
  },
  "language_info": {
   "codemirror_mode": {
    "name": "ipython",
    "version": 3
   },
   "file_extension": ".py",
   "mimetype": "text/x-python",
   "name": "python",
   "nbconvert_exporter": "python",
   "pygments_lexer": "ipython3",
   "version": "3.8.13"
  },
  "orig_nbformat": 4,
  "vscode": {
   "interpreter": {
    "hash": "0adcc2737ebf6a4a119f135174df96668767fca1ef1112612db5ecadf2b6d608"
   }
  }
 },
 "nbformat": 4,
 "nbformat_minor": 2
}
