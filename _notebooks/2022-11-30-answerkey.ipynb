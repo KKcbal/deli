{
 "cells": [
  {
   "cell_type": "markdown",
   "metadata": {},
   "source": [
    "# Lesson Answer Key\n",
    "> Try to complete this to show understanding!\n",
    "- title: Answer Key\n",
    "- hide: true\n",
    "- search-exclude: true\n",
    "- permalink: /thepasswordispassword/"
   ]
  },
  {
   "cell_type": "markdown",
   "metadata": {},
   "source": [
    "## Sample Binary Decoder\n",
    "\n",
    "Here is a possible model for the binary decoder challenge.\n",
    "\n",
    "For loop:"
   ]
  },
  {
   "cell_type": "code",
   "execution_count": 2,
   "metadata": {},
   "outputs": [
    {
     "name": "stdout",
     "output_type": "stream",
     "text": [
      "['01001001', '00110111']\n"
     ]
    }
   ],
   "source": [
    "binarylist = [\n",
    "    \"01001001\", \"10101010\", \"10010110\", \"00110111\", \"11101100\", \"11010001\", \"10000001\"\n",
    "]\n",
    "newlist = []\n",
    "\n",
    "def binary_convert(binary): #assumes the 8-bit binary is in the form of a string\n",
    "    decimal = 0\n",
    "    i = 7\n",
    "    while i >= 0:\n",
    "        if int(binary[i]) == 1:\n",
    "            decimal += (2**(7 - i))\n",
    "        i -= 1\n",
    "    return decimal\n",
    "\n",
    "for stuff in binarylist:\n",
    "    deciconv = binary_convert(stuff)\n",
    "    if (deciconv > 100):\n",
    "        pass\n",
    "    else:\n",
    "        newlist.append(stuff)\n",
    "\n",
    "print(newlist)"
   ]
  },
  {
   "cell_type": "markdown",
   "metadata": {},
   "source": [
    "While loop:"
   ]
  },
  {
   "cell_type": "code",
   "execution_count": 8,
   "metadata": {},
   "outputs": [
    {
     "name": "stdout",
     "output_type": "stream",
     "text": [
      "['01001001', '00110111']\n"
     ]
    }
   ],
   "source": [
    "binarylist = [\n",
    "    \"01001001\", \"10101010\", \"10010110\", \"00110111\", \"11101100\", \"11010001\", \"10000001\"\n",
    "]\n",
    "newlist = []\n",
    "\n",
    "j = 0\n",
    "while j < 7:\n",
    "    deciconv = binary_convert(binarylist[j])\n",
    "    if (deciconv > 100):\n",
    "        pass\n",
    "    else:\n",
    "        newlist.append(binarylist[j])\n",
    "    j += 1\n",
    "\n",
    "print(newlist)"
   ]
  },
  {
   "cell_type": "markdown",
   "metadata": {},
   "source": [
    "Recursive loop:"
   ]
  },
  {
   "cell_type": "code",
   "execution_count": 9,
   "metadata": {},
   "outputs": [
    {
     "name": "stdout",
     "output_type": "stream",
     "text": [
      "['01001001', '00110111']\n"
     ]
    }
   ],
   "source": [
    "binarylist = [\n",
    "    \"01001001\", \"10101010\", \"10010110\", \"00110111\", \"11101100\", \"11010001\", \"10000001\"\n",
    "]\n",
    "newlist = []\n",
    "\n",
    "def recursive_loop(i):\n",
    "    if i < 7:\n",
    "        deciconv = binary_convert(binarylist[i])\n",
    "        if (deciconv > 100):\n",
    "            pass\n",
    "        else:\n",
    "            newlist.append(binarylist[i])\n",
    "        recursive_loop(i + 1)\n",
    "\n",
    "recursive_loop(0)\n",
    "print(newlist)"
   ]
  },
  {
   "cell_type": "markdown",
   "metadata": {},
   "source": [
    "## Sample 3.10 Challenge\n",
    "\n",
    "This is the baseline expectation for the 3.10 challenge."
   ]
  },
  {
   "cell_type": "code",
   "execution_count": 2,
   "metadata": {},
   "outputs": [
    {
     "name": "stdout",
     "output_type": "stream",
     "text": [
      "carrots\n",
      "carrots\n",
      "artichokes\n",
      "['apples', 'eggs', 'artichokes', 'carrots', 'cucumbers', 'umbrellas', 'artichokes']\n"
     ]
    }
   ],
   "source": [
    "grocery_list = ['apples', 'milk', 'oranges', 'carrots', 'cucumbers']\n",
    "\n",
    "# Print the fourth item in the list\n",
    "print(grocery_list[3])\n",
    "\n",
    "# Now, assign the fourth item in the list to a variable, x and then print the variable\n",
    "x = grocery_list[3]\n",
    "print(x)\n",
    "\n",
    "# Add these two items at the end of the list : umbrellas and artichokes\n",
    "grocery_list.append('umbrellas')\n",
    "grocery_list.append('artichokes')\n",
    "\n",
    "# Insert the item eggs as the third item of the list \n",
    "grocery_list.insert(2, 'eggs')\n",
    "\n",
    "# Remove milk from the list \n",
    "grocery_list.pop(1)\n",
    "#ALTERNATIVELY grocery_list.remove('milk')\n",
    "\n",
    "# Assign the element at the end of the list to index 2. Print index 2 to check\n",
    "grocery_list[2] = grocery_list[6]\n",
    "print(grocery_list[2])\n",
    "\n",
    "# Print the entire list. Does it match ours? \n",
    "print(grocery_list)\n",
    "\n",
    "# Expected output\n",
    "# carrots\n",
    "# carrots\n",
    "# artichokes\n",
    "# ['apples', 'eggs', 'artichokes', 'carrots', 'cucumbers', 'umbrellas', 'artichokes']"
   ]
  },
  {
   "cell_type": "markdown",
   "metadata": {},
   "source": [
    "## Sample Iterative Quiz\n",
    "\n",
    "Here is a sample of the quiz that can be made for the homework. I included the hacks of offering more than 3 possible answers and of randomizing the order in which questions are asked."
   ]
  },
  {
   "cell_type": "code",
   "execution_count": 37,
   "metadata": {},
   "outputs": [
    {
     "name": "stdout",
     "output_type": "stream",
     "text": [
      "Can a loop iterate through a dictionary?\n",
      "a. Yes\n",
      "b. No\n",
      "c. Sometimes\n",
      "d. I'm not sure\n",
      "Good job! \"a\" is the correct answer.\n",
      "Which of these is NOT a type of loop?\n",
      "a. For Loop\n",
      "b. Recursive Loop\n",
      "c. While Loop\n",
      "d. Monkey Loop\n",
      "Good job! \"d\" is the correct answer.\n",
      "Why are lists useful?\n",
      "a. Because you can only put a limited number of items in them.\n",
      "b. Because you can use a loop to apply a function to everything in the list.\n",
      "c. Because the order of the items in the list doesn't matter.\n",
      "d. Because all numbers put in lists are automatically converted to strings when called.\n",
      "Good job! \"b\" is the correct answer.\n",
      "What is iteration?\n",
      "a. Repetition\n",
      "b. Correction\n",
      "c. Reading outputs\n",
      "d. Pulling from lists\n",
      "Good job! \"a\" is the correct answer.\n",
      "Which function removes an option from a list based on its index?\n",
      "a. 'insert()'\n",
      "b. 'remove()'\n",
      "c. 'append()'\n",
      "d. 'pop()'\n",
      "Good job! \"d\" is the correct answer.\n",
      "You scored 5 out of 5 on the quiz. That's 100%!\n",
      "Congratulations, that's a passing score! You're a real expert at iteration and lists.\n"
     ]
    }
   ],
   "source": [
    "import random #used to randomize the questions\n",
    "\n",
    "questions = [\n",
    "    {\"q\": \"Why are lists useful?\", \"a\": \"a. Because you can only put a limited number of items in them.\\nb. Because you can use a loop to apply a function to everything in the list.\\nc. Because the order of the items in the list doesn't matter.\\nd. Because all numbers put in lists are automatically converted to strings when called.\", \"correct\": \"b\"},\n",
    "    {\"q\": \"Which of these is NOT a type of loop?\", \"a\": \"a. For Loop\\nb. Recursive Loop\\nc. While Loop\\nd. Monkey Loop\", \"correct\": \"d\"},\n",
    "    {\"q\": \"What is iteration?\", \"a\": \"a. Repetition\\nb. Correction\\nc. Reading outputs\\nd. Pulling from lists\", \"correct\": \"a\"},\n",
    "    {\"q\": \"Which function removes an option from a list based on its index?\", \"a\": \"a. 'insert()'\\nb. 'remove()'\\nc. 'append()'\\nd. 'pop()'\", \"correct\": \"d\"},\n",
    "    {\"q\": \"Can a loop iterate through a dictionary?\", \"a\": \"a. Yes\\nb. No\\nc. Sometimes\\nd. I'm not sure\", \"correct\": \"a\"}\n",
    "] #five questions, selected randomly\n",
    "validresponse = [\"a\", \"b\", \"c\", \"d\"] #a list of valid inputs\n",
    "score = 0 #score is set at zero, incremented later unless you suck\n",
    "\n",
    "def quizloop():\n",
    "    i = 0 #represents the number of questions asked, starting at 0 (meaning 1)\n",
    "    while i < 5:\n",
    "        quesnum = int(random.randrange(len(questions))) #question number is generated randomly based on the number of questions remaining in \"questions\"\n",
    "        question = questions[quesnum][\"q\"] #pulling the question from the randomly-selected dictionary\n",
    "        answers = questions[quesnum][\"a\"] #pulling the answer from the randomly-selected dictionary\n",
    "        print(question + \"\\n\" + answers) #printing the question\n",
    "        answercheck(quesnum) #receiving and checking the accuracy of the user's answer\n",
    "        questions.pop(quesnum) #removing the already asked question from the list so that it isn't repeated\n",
    "        i += 1 #i incremented to indicate that one more of the five questions has already been asked\n",
    "    scorecheck() #a reflection on your score\n",
    "\n",
    "def answercheck(quesnum):\n",
    "    global score #retrieving global element \"score\"\n",
    "    choice = input(\"Pick an option: a, b, c or d. Do not include the period.\").lower() #using .lower() so that capital answers are still detected correct\n",
    "    if choice in validresponse: #ensuring the response is one of the four valid letters\n",
    "        pass\n",
    "    else:\n",
    "        print(\"Invalid response.\")\n",
    "        answercheck(quesnum)\n",
    "        return\n",
    "    if choice == questions[quesnum][\"correct\"]: #if the choice is correct\n",
    "        print('Good job! \"' + choice + '\" is the correct answer.')\n",
    "        score += 1\n",
    "    else: #if the choice isn't correct\n",
    "        print('Unfortunately, \"' + questions[quesnum][\"correct\"] + '\" was the correct answer.')\n",
    "    \n",
    "def scorecheck():\n",
    "    percent = int(100 * (int(score) / 5)) #calculating percent value of score, converted with int() for no ugly decimal\n",
    "    print(\"You scored\", str(int(score)), \"out of 5 on the quiz. That's\", str(percent) + \"%!\")\n",
    "    if percent < 80: #if you didn't score a passing score\n",
    "        print(\"Unfortunately, you needed at least 80% (3 out of 5) to pass.\\nBetter luck next time!\")\n",
    "    else: #if you did score a passing score\n",
    "        print(\"Congratulations, that's a passing score! You're a real expert at iteration and lists.\")\n",
    "\n",
    "#all of the quiz happens with just this one function\n",
    "quizloop()"
   ]
  }
 ],
 "metadata": {
  "kernelspec": {
   "display_name": "Python 3.8.13 64-bit",
   "language": "python",
   "name": "python3"
  },
  "language_info": {
   "codemirror_mode": {
    "name": "ipython",
    "version": 3
   },
   "file_extension": ".py",
   "mimetype": "text/x-python",
   "name": "python",
   "nbconvert_exporter": "python",
   "pygments_lexer": "ipython3",
   "version": "3.8.13"
  },
  "orig_nbformat": 4,
  "vscode": {
   "interpreter": {
    "hash": "0adcc2737ebf6a4a119f135174df96668767fca1ef1112612db5ecadf2b6d608"
   }
  }
 },
 "nbformat": 4,
 "nbformat_minor": 2
}
